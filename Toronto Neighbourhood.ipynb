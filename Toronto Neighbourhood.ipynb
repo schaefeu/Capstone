{
    "nbformat_minor": 1, 
    "cells": [
        {
            "execution_count": 33, 
            "cell_type": "code", 
            "metadata": {}, 
            "outputs": [
                {
                    "execution_count": 33, 
                    "metadata": {}, 
                    "data": {
                        "text/plain": "(103, 3)"
                    }, 
                    "output_type": "execute_result"
                }
            ], 
            "source": "import pandas as pd\nimport numpy as np\n\n#importing table and converting to dataframe\nurl = r'https://en.wikipedia.org/wiki/List_of_postal_codes_of_Canada:_M'\ntable = pd.read_html(url,header=0, index_col=None) # Returns list of all tables on page\n\n\ndf = table[0]\n\n\n# dropping all values where Borough is not assigned\ndf1=df[df['Borough'] != 'Not assigned']\n\n# joining Neighbourhoods by Postcode\ndf2=df1.groupby(\"Postcode\").agg(lambda x:', '.join(set(x)))\n\n#converting Index postcode to column\ndf2.reset_index(level=0, inplace=True)\ndf2\n\n#using shape method\n\ndf2.shape\n\n\n\n"
        }
    ], 
    "metadata": {
        "kernelspec": {
            "display_name": "Python 3.5", 
            "name": "python3", 
            "language": "python"
        }, 
        "language_info": {
            "mimetype": "text/x-python", 
            "nbconvert_exporter": "python", 
            "version": "3.5.5", 
            "name": "python", 
            "file_extension": ".py", 
            "pygments_lexer": "ipython3", 
            "codemirror_mode": {
                "version": 3, 
                "name": "ipython"
            }
        }
    }, 
    "nbformat": 4
}